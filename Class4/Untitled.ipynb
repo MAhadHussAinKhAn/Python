{
 "cells": [
  {
   "cell_type": "code",
   "execution_count": 1,
   "metadata": {},
   "outputs": [
    {
     "name": "stdout",
     "output_type": "stream",
     "text": [
      "Do u have Cnic?Yes\n"
     ]
    }
   ],
   "source": []
  },
  {
   "cell_type": "code",
   "execution_count": 7,
   "metadata": {},
   "outputs": [
    {
     "name": "stdout",
     "output_type": "stream",
     "text": [
      "Do u have Cnic?yes\n",
      "He Has Valid Cnic\n",
      "Is your name in voter listno\n",
      "You can't cast vote\n"
     ]
    }
   ],
   "source": [
    "user_Nic=(input(\"Do u have Cnic?\")).lower()\n",
    "if user_Nic == 'yes':\n",
    "    print(\"He Has Valid Cnic\")\n",
    "    voter_list=(input(\"Is your name in voter list\")).lower()\n",
    "    if voter_list == 'yes':\n",
    "        print(\"You are registered voter\")\n",
    "        print(\"You can cast vote\")\n",
    "    else:\n",
    "        print(\"You can't cast vote\")\n",
    "else:\n",
    "    print(\"U can't cast vote\")\n",
    "    \n",
    "    "
   ]
  }
 ],
 "metadata": {
  "kernelspec": {
   "display_name": "Python 3",
   "language": "python",
   "name": "python3"
  },
  "language_info": {
   "codemirror_mode": {
    "name": "ipython",
    "version": 3
   },
   "file_extension": ".py",
   "mimetype": "text/x-python",
   "name": "python",
   "nbconvert_exporter": "python",
   "pygments_lexer": "ipython3",
   "version": "3.7.3"
  }
 },
 "nbformat": 4,
 "nbformat_minor": 2
}
