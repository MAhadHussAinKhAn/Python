{
 "cells": [
  {
   "cell_type": "code",
   "execution_count": null,
   "metadata": {},
   "outputs": [],
   "source": [
    "a=10\n",
    "b=10.3\n",
    "c=True\n",
    "d=\"String\""
   ]
  },
  {
   "cell_type": "code",
   "execution_count": null,
   "metadata": {},
   "outputs": [],
   "source": [
    "12/6"
   ]
  },
  {
   "cell_type": "code",
   "execution_count": null,
   "metadata": {},
   "outputs": [],
   "source": [
    "12//6"
   ]
  },
  {
   "cell_type": "code",
   "execution_count": null,
   "metadata": {},
   "outputs": [],
   "source": []
  },
  {
   "cell_type": "code",
   "execution_count": 5,
   "metadata": {},
   "outputs": [
    {
     "name": "stdout",
     "output_type": "stream",
     "text": [
      "Enter your age plz:56\n",
      "Enter your name plz:hghf\n",
      "My Name is hghfand age is 56\n",
      "My Name is hghfand age is 56\n"
     ]
    }
   ],
   "source": [
    "age=input(\"Enter your age plz:\")\n",
    "name=input(\"Enter your name plz:\")\n",
    "print(\"My Name is \" + name + \"and age is \" + age)"
   ]
  },
  {
   "cell_type": "code",
   "execution_count": 6,
   "metadata": {
    "scrolled": true
   },
   "outputs": [
    {
     "name": "stdout",
     "output_type": "stream",
     "text": [
      "Enter your age plz:7\n",
      "Enter your name plz:hjh\n",
      "My Name is hjhand age is 7\n",
      "My Name is hjhand age is 7\n"
     ]
    }
   ],
   "source": [
    "age=input(\"Enter your age plz:\")\n",
    "name=input(\"Enter your name plz:\")\n",
    "print(\"My Name is \" + name + \"and age is \" + age)"
   ]
  },
  {
   "cell_type": "code",
   "execution_count": 8,
   "metadata": {
    "scrolled": true
   },
   "outputs": [
    {
     "name": "stdout",
     "output_type": "stream",
     "text": [
      "Enter your age plz:34\n",
      "Enter your name plz:sfv\n",
      "My Name is sfv and age is  34\n",
      "My Name is sfv and age is  34\n"
     ]
    }
   ],
   "source": [
    "age=input(\"Enter your age plz:\")\n",
    "name=input(\"Enter your name plz:\")\n",
    "print(f\"My Name is {name} and age is {age}\")"
   ]
  },
  {
   "cell_type": "code",
   "execution_count": 19,
   "metadata": {},
   "outputs": [
    {
     "name": "stdout",
     "output_type": "stream",
     "text": [
      "Enter a num:66\n",
      "66 is Even\n",
      "66 is Even\n"
     ]
    }
   ],
   "source": [
    "num=int(input(\"Enter a num:\"))\n",
    "if num % 2 == 0:\n",
    "    print(f\"{num} is Even\")\n",
    "else:\n",
    "    print(f\"{num} is Odd\")"
   ]
  },
  {
   "cell_type": "code",
   "execution_count": null,
   "metadata": {},
   "outputs": [],
   "source": []
  }
 ],
 "metadata": {
  "kernelspec": {
   "display_name": "Python 3",
   "language": "python",
   "name": "python3"
  },
  "language_info": {
   "codemirror_mode": {
    "name": "ipython",
    "version": 3
   },
   "file_extension": ".py",
   "mimetype": "text/x-python",
   "name": "python",
   "nbconvert_exporter": "python",
   "pygments_lexer": "ipython3",
   "version": "3.7.3"
  }
 },
 "nbformat": 4,
 "nbformat_minor": 2
}
